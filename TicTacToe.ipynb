{
 "cells": [
  {
   "cell_type": "markdown",
   "metadata": {},
   "source": [
    "# Milestone Project 1"
   ]
  },
  {
   "cell_type": "markdown",
   "metadata": {},
   "source": [
    " "
   ]
  },
  {
   "cell_type": "markdown",
   "metadata": {},
   "source": [
    "Tic Tac Toe"
   ]
  },
  {
   "cell_type": "code",
   "execution_count": 1,
   "metadata": {
    "collapsed": true
   },
   "outputs": [],
   "source": [
    "from __future__ import print_function            # Importing Functions\n",
    "from IPython.display import clear_output"
   ]
  },
  {
   "cell_type": "code",
   "execution_count": 5,
   "metadata": {},
   "outputs": [
    {
     "name": "stdout",
     "output_type": "stream",
     "text": [
      "\n",
      "Chao! \n",
      "\n"
     ]
    }
   ],
   "source": [
    "def tictactoe():\n",
    "    \n",
    "    clear_output()\n",
    "    l = ['1','2','3','4','5','6','7','8','9']\n",
    "    m1 = 1\n",
    "    while not (m1 == 'O' or m1 =='X'):\n",
    "        m1 = raw_input('Player 1: Select your Marker (X/O) ').upper()\n",
    "    if m1 == 'O':\n",
    "        m2 = 'X'\n",
    "    else:\n",
    "        m1 = 'X'\n",
    "        m2 = 'O'\n",
    "    print('\\nTic-Tac-Toe \\n\\n%s %s %s\\n%s %s %s\\n%s %s %s\\n\\nPlayer 1: %s\\nPlayer 2: %s\\n' %(l[0],l[1],l[2],l[3],l[4],l[5],l[6],l[7],l[8],m1,m2))\n",
    "    \n",
    "    \n",
    "    i = 1\n",
    "    p1 = ' '\n",
    "    p2 = ' '\n",
    "    while i < 10:\n",
    "        while p1 not in l:\n",
    "            p1 = raw_input('Player 1 (%s) : ' %m1)\n",
    "        l[int(p1)-1] = str(m1)\n",
    "        clear_output()\n",
    "        print('\\nTic-Tac-Toe \\n\\n%s %s %s\\n%s %s %s\\n%s %s %s\\n' %(l[0],l[1],l[2],l[3],l[4],l[5],l[6],l[7],l[8]))\n",
    "        i += 1\n",
    "        if l[0]==l[1]==l[2] or l[3]==l[4]==l[5] or l[6]==l[7]==l[8] or l[0]==l[3]==l[6] or l[1]==l[4]==l[7] or l[2]==l[5]==l[8] or l[0]==l[4]==l[8] or l[2]==l[4]==l[6]:\n",
    "            print('Player 1 wins!')\n",
    "            i = 100\n",
    "            break\n",
    "        if i == 10:\n",
    "            break\n",
    "        while p2 not in l:\n",
    "            p2 = raw_input('Player 2 (%s) : ' %m2)\n",
    "        l[int(p2)-1] = str(m2)\n",
    "        clear_output()\n",
    "        print('\\nTic-Tac-Toe \\n\\n%s %s %s\\n%s %s %s\\n%s %s %s\\n' %(l[0],l[1],l[2],l[3],l[4],l[5],l[6],l[7],l[8]))\n",
    "        i += 1\n",
    "        if l[0]==l[1]==l[2] or l[3]==l[4]==l[5] or l[6]==l[7]==l[8] or l[0]==l[3]==l[6] or l[1]==l[4]==l[7] or l[2]==l[5]==l[8] or l[0]==l[4]==l[8] or l[2]==l[4]==l[6]:\n",
    "            print('Player 2 wins!!')\n",
    "            i = 100\n",
    "            break\n",
    "        if i == 10:\n",
    "            break\n",
    "    if i == 10:\n",
    "        print('Draw')\n",
    "    \n",
    "    a = raw_input('\\nNew game? (Y/N): ').upper()         # raw_input is used in Python 2, input is used in Python 3 \n",
    "    if a =='Y':\n",
    "        tictactoe()\n",
    "    else:\n",
    "        clear_output()\n",
    "        print('\\nChao! \\n')\n",
    "\n",
    "tictactoe()    \n",
    " "
   ]
  },
  {
   "cell_type": "code",
   "execution_count": null,
   "metadata": {
    "collapsed": true
   },
   "outputs": [],
   "source": []
  },
  {
   "cell_type": "code",
   "execution_count": null,
   "metadata": {
    "collapsed": true
   },
   "outputs": [],
   "source": []
  }
 ],
 "metadata": {
  "kernelspec": {
   "display_name": "Python 2",
   "language": "python",
   "name": "python2"
  },
  "language_info": {
   "codemirror_mode": {
    "name": "ipython",
    "version": 2
   },
   "file_extension": ".py",
   "mimetype": "text/x-python",
   "name": "python",
   "nbconvert_exporter": "python",
   "pygments_lexer": "ipython2",
   "version": "2.7.13"
  }
 },
 "nbformat": 4,
 "nbformat_minor": 2
}
